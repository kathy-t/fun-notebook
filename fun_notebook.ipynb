{
 "cells": [
  {
   "cell_type": "markdown",
   "metadata": {
    "id": "khJtuBs9wCOX"
   },
   "source": [
    "This notebook is a demonstration of how TRS can be used to retrieve workflows and its files."
   ]
  },
  {
   "cell_type": "code",
   "execution_count": 1,
   "metadata": {},
   "outputs": [
    {
     "name": "stdout",
     "output_type": "stream",
     "text": [
      "Defaulting to user installation because normal site-packages is not writeable\n",
      "Collecting git+https://github.com/ga4gh/fasp-clients\n",
      "  Cloning https://github.com/ga4gh/fasp-clients to /tmp/pip-req-build-8a01s1h2\n",
      "  Running command git clone --filter=blob:none --quiet https://github.com/ga4gh/fasp-clients /tmp/pip-req-build-8a01s1h2\n",
      "  Resolved https://github.com/ga4gh/fasp-clients to commit bdc02d354841bd485fccf99bcd91537c5904ef2f\n",
      "  Installing build dependencies ... \u001b[?25ldone\n",
      "\u001b[?25h  Getting requirements to build wheel ... \u001b[?25ldone\n",
      "\u001b[?25h  Installing backend dependencies ... \u001b[?25ldone\n",
      "\u001b[?25h  Preparing metadata (pyproject.toml) ... \u001b[?25ldone\n",
      "\u001b[?25hRequirement already satisfied: pandas in ./.local/lib/python3.10/site-packages (from fasp-clients==1.1) (2.2.0)\n",
      "Requirement already satisfied: requests in ./.local/lib/python3.10/site-packages (from fasp-clients==1.1) (2.31.0)\n",
      "Requirement already satisfied: tzdata>=2022.7 in ./.local/lib/python3.10/site-packages (from pandas->fasp-clients==1.1) (2023.4)\n",
      "Requirement already satisfied: pytz>=2020.1 in /usr/lib/python3/dist-packages (from pandas->fasp-clients==1.1) (2022.1)\n",
      "Requirement already satisfied: numpy<2,>=1.22.4 in ./.local/lib/python3.10/site-packages (from pandas->fasp-clients==1.1) (1.26.4)\n",
      "Requirement already satisfied: python-dateutil>=2.8.2 in ./.local/lib/python3.10/site-packages (from pandas->fasp-clients==1.1) (2.8.2)\n",
      "Requirement already satisfied: idna<4,>=2.5 in /usr/lib/python3/dist-packages (from requests->fasp-clients==1.1) (3.3)\n",
      "Requirement already satisfied: certifi>=2017.4.17 in /usr/lib/python3/dist-packages (from requests->fasp-clients==1.1) (2020.6.20)\n",
      "Requirement already satisfied: charset-normalizer<4,>=2 in ./.local/lib/python3.10/site-packages (from requests->fasp-clients==1.1) (3.3.2)\n",
      "Requirement already satisfied: urllib3<3,>=1.21.1 in /usr/lib/python3/dist-packages (from requests->fasp-clients==1.1) (1.26.5)\n",
      "Requirement already satisfied: six>=1.5 in /usr/lib/python3/dist-packages (from python-dateutil>=2.8.2->pandas->fasp-clients==1.1) (1.16.0)\n"
     ]
    }
   ],
   "source": [
    "!pip install git+https://github.com/ga4gh/fasp-clients"
   ]
  },
  {
   "cell_type": "markdown",
   "metadata": {},
   "source": [
    "We can view the available TRS services by using the `GA4GHRegistryClient`."
   ]
  },
  {
   "cell_type": "code",
   "execution_count": 2,
   "metadata": {},
   "outputs": [
    {
     "name": "stdout",
     "output_type": "stream",
     "text": [
      "Searching the GA4GH registry for org.ga4gh:trs services\n"
     ]
    },
    {
     "data": {
      "text/plain": [
       "[{'id': 'org.dockstore.dockstoreapi',\n",
       "  'name': 'Dockstore',\n",
       "  'type': {'group': 'org.ga4gh', 'artifact': 'trs', 'version': '2.0.0'},\n",
       "  'organization': {'id': 'org.dockstore',\n",
       "   'name': 'Dockstore',\n",
       "   'url': 'https://dockstore.org'},\n",
       "  'version': '1.8.1',\n",
       "  'url': 'https://dockstore.org/api/api/ga4gh/v2/',\n",
       "  'description': 'Dockstore TRS implementation',\n",
       "  'documentationUrl': 'https://dockstore.org/api/static/swagger-ui/index.html'},\n",
       " {'id': 'pro.biocontainers.biocontainersapi',\n",
       "  'name': 'Biocontainers',\n",
       "  'type': {'group': 'org.ga4gh', 'artifact': 'trs', 'version': '2.0.0'},\n",
       "  'organization': {'id': 'pro.biocontainers',\n",
       "   'name': 'Biocontainers',\n",
       "   'url': 'https://biocontainers.pro'},\n",
       "  'version': '1.0.0',\n",
       "  'url': 'https://api.biocontainers.pro/api/ga4gh/v2',\n",
       "  'description': 'Biocontainers TRS implementation',\n",
       "  'documentationUrl': 'https://biocontainers-edu.biocontainers.pro/en/latest/'}]"
      ]
     },
     "execution_count": 2,
     "metadata": {},
     "output_type": "execute_result"
    }
   ],
   "source": [
    "from fasp.loc import GA4GHRegistryClient\n",
    "cl = GA4GHRegistryClient('https://registry.ga4gh.org/v1')\n",
    "cl.getRegisteredServices('org.ga4gh:trs')"
   ]
  },
  {
   "cell_type": "markdown",
   "metadata": {
    "id": "fWcCuf3fiq0T"
   },
   "source": [
    "Dockstore is one of the TRS services listed, so we will use it in this notebook. Another TRS service that we will use is WorkflowHub, however, it is not listed in the registry.\n",
    "\n",
    "Below are some TRS constants that will be used in this notebook."
   ]
  },
  {
   "cell_type": "code",
   "execution_count": 3,
   "metadata": {
    "colab": {
     "base_uri": "https://localhost:8080/"
    },
    "id": "vAW-Rt_winsX",
    "outputId": "1ace9bc6-019b-4ebb-e724-1afdbc3c9a42"
   },
   "outputs": [],
   "source": [
    "DOCKSTORE_TRS_URL = 'https://dockstore.org/api/ga4gh/trs/v2/'\n",
    "# The following Dockstore TRS ID and version ID are for this workflow: https://dockstore.org/workflows/github.com/dockstore/dockstore-tool-bamstats/wdl:1.25-9?tab=info\n",
    "DOCKSTORE_EXAMPLE_TRS_ID = '#workflow/github.com/dockstore/dockstore-tool-bamstats/wdl'\n",
    "DOCKSTORE_EXAMPLE_TRS_VERSION_ID = '1.25-9'\n",
    "\n",
    "WORKFLOW_HUB_TRS_URL = 'https://workflowhub.eu/ga4gh/trs/v2/'"
   ]
  },
  {
   "cell_type": "markdown",
   "metadata": {},
   "source": [
    "First, we will use the WorkflowHub TRS service to demonstrate how to get information about the TRS service, what tool types are available, and how to list tools."
   ]
  },
  {
   "cell_type": "code",
   "execution_count": 4,
   "metadata": {},
   "outputs": [],
   "source": [
    "trsUrl = WORKFLOW_HUB_TRS_URL"
   ]
  },
  {
   "cell_type": "markdown",
   "metadata": {
    "id": "-wZ5-JlZIgkm"
   },
   "source": [
    "Below are helper functions that will execute the TRS requests and print the responses in a user friendly way."
   ]
  },
  {
   "cell_type": "code",
   "execution_count": 5,
   "metadata": {
    "id": "h09oJPR7DjlU"
   },
   "outputs": [],
   "source": [
    "import requests, json\n",
    "\n",
    "def getTrsRequest(urlSuffix):\n",
    "  fullTrsUrl = trsUrl + urlSuffix\n",
    "  print(\"Performing GET request with URL \" + fullTrsUrl)\n",
    "  return requests.get(fullTrsUrl)\n",
    "\n",
    "def getTrsRequestAsJson(urlSuffix):\n",
    "  return getTrsRequest(urlSuffix).json()\n",
    "\n",
    "def prettyPrintJson(jsonObject):\n",
    "    print(json.dumps(jsonObject, indent=4))\n",
    "\n",
    "def urlEncode(stringToEncode):\n",
    "  return requests.utils.quote(stringToEncode, safe='') # Set safe to nothing because it considers slashes safe by default"
   ]
  },
  {
   "cell_type": "markdown",
   "metadata": {
    "id": "W_mLYfBQo3Vd"
   },
   "source": [
    "Get information about the WorkflowHub TRS service."
   ]
  },
  {
   "cell_type": "code",
   "execution_count": 6,
   "metadata": {
    "colab": {
     "base_uri": "https://localhost:8080/"
    },
    "id": "c4YMRAGnGdqM",
    "outputId": "53ecca6f-0566-4164-8e2d-598bab32c457"
   },
   "outputs": [
    {
     "name": "stdout",
     "output_type": "stream",
     "text": [
      "Performing GET request with URL https://workflowhub.eu/ga4gh/trs/v2/service-info\n",
      "{\n",
      "    \"contactUrl\": \"mailto:WORKFLOWHUB-ADMIN@listserv.manchester.ac.uk\",\n",
      "    \"description\": \"TRS API endpoint for WorkflowHub\",\n",
      "    \"documentationUrl\": \"https://editor.swagger.io/?url=https://raw.githubusercontent.com/ga4gh/tool-registry-service-schemas/release/v2.0.1/openapi/openapi.yaml\",\n",
      "    \"environment\": \"production\",\n",
      "    \"id\": \"eu.workflowhub\",\n",
      "    \"name\": \"WorkflowHub\",\n",
      "    \"organization\": {\n",
      "        \"name\": \"WorkflowHub\",\n",
      "        \"url\": \"https://about.workflowhub.eu/\"\n",
      "    },\n",
      "    \"type\": {\n",
      "        \"artifact\": \"trs\",\n",
      "        \"group\": \"org.ga4gh\",\n",
      "        \"version\": \"2.0.1\"\n",
      "    },\n",
      "    \"version\": \"1.14.1\"\n",
      "}\n"
     ]
    }
   ],
   "source": [
    "prettyPrintJson(getTrsRequestAsJson('service-info'))"
   ]
  },
  {
   "cell_type": "markdown",
   "metadata": {
    "id": "oJeC24C0Is7x"
   },
   "source": [
    "These are the types of tools that can be retrieved using WorkflowHub's TRS service. WorkflowHub only has workflows."
   ]
  },
  {
   "cell_type": "code",
   "execution_count": 7,
   "metadata": {
    "colab": {
     "base_uri": "https://localhost:8080/"
    },
    "id": "_hJ0xptUHDe7",
    "outputId": "cd116670-7181-4b51-869a-b1d21550a00a"
   },
   "outputs": [
    {
     "name": "stdout",
     "output_type": "stream",
     "text": [
      "Performing GET request with URL https://workflowhub.eu/ga4gh/trs/v2/toolClasses\n",
      "[\n",
      "    {\n",
      "        \"id\": \"1\",\n",
      "        \"name\": \"Workflow\",\n",
      "        \"description\": \"A computational workflow\"\n",
      "    }\n",
      "]\n"
     ]
    }
   ],
   "source": [
    "prettyPrintJson(getTrsRequestAsJson('toolClasses'))"
   ]
  },
  {
   "cell_type": "markdown",
   "metadata": {
    "id": "4FTnpmDGKwrV"
   },
   "source": [
    "You can list all the tools available using the `tools` endpoint. This endpoint also allows you to filter tools and page through the results using the `offset` parameter.\n",
    "\n",
    "Let's list 3 workflows using this TRS endpoint. For this example, we set the `limit` query parameter to `3` because we only want to see 3 results and the `offset` to 0 because we want to view the first page of results."
   ]
  },
  {
   "cell_type": "code",
   "execution_count": 8,
   "metadata": {
    "colab": {
     "base_uri": "https://localhost:8080/"
    },
    "id": "FuEsyQ-pI2N5",
    "outputId": "5fd2a45c-227b-40bc-d961-5bd54c4113ec"
   },
   "outputs": [
    {
     "name": "stdout",
     "output_type": "stream",
     "text": [
      "Performing GET request with URL https://workflowhub.eu/ga4gh/trs/v2/tools?toolClass=Workflow&limit=3&offset=0\n",
      "[\n",
      "    {\n",
      "        \"id\": \"2\",\n",
      "        \"url\": \"https://workflowhub.eu/workflows/2\",\n",
      "        \"name\": \"Genomics - Read pre-processing\",\n",
      "        \"description\": \"Preprocessing of raw SARS-CoV-2 reads. More info can be found at https://covid19.galaxyproject.org/genomics/\",\n",
      "        \"organization\": \"GalaxyProject SARS-CoV-2\",\n",
      "        \"toolclass\": {\n",
      "            \"id\": \"1\",\n",
      "            \"name\": \"Workflow\",\n",
      "            \"description\": \"A computational workflow\"\n",
      "        },\n",
      "        \"versions\": [\n",
      "            {\n",
      "                \"id\": \"1\",\n",
      "                \"url\": \"https://workflowhub.eu/workflows/2?version=1\",\n",
      "                \"name\": \"Version 1\",\n",
      "                \"author\": [],\n",
      "                \"descriptor_type\": [\n",
      "                    \"GALAXY\"\n",
      "                ]\n",
      "            }\n",
      "        ]\n",
      "    },\n",
      "    {\n",
      "        \"id\": \"3\",\n",
      "        \"url\": \"https://workflowhub.eu/workflows/3\",\n",
      "        \"name\": \"Virus genome assembly with Unicycler and Spades.\",\n",
      "        \"description\": \"Virus genome assembly with Unicycler and Spades,\\r\\nThe 2 assemblers works in parallel. The graph  visualization is made with Bandage.\\r\\nworkflow git repository : https://github.com/fjrmoreews/cwl-workflow-SARS-CoV-2/blob/master/Assembly/workflow/assembly-wf-virus.cwl\\r\\nBased on  https://github.com/galaxyproject/SARS-CoV-2/blob/master/genomics/2-Assembly/as_wf.png\\r\\n\",\n",
      "        \"organization\": \"CWL workflow SARS-CoV-2\",\n",
      "        \"toolclass\": {\n",
      "            \"id\": \"1\",\n",
      "            \"name\": \"Workflow\",\n",
      "            \"description\": \"A computational workflow\"\n",
      "        },\n",
      "        \"versions\": [\n",
      "            {\n",
      "                \"id\": \"1\",\n",
      "                \"url\": \"https://workflowhub.eu/workflows/3?version=1\",\n",
      "                \"name\": \"Version 1\",\n",
      "                \"author\": [],\n",
      "                \"descriptor_type\": [\n",
      "                    \"CWL\"\n",
      "                ]\n",
      "            }\n",
      "        ]\n",
      "    },\n",
      "    {\n",
      "        \"id\": \"4\",\n",
      "        \"url\": \"https://workflowhub.eu/workflows/4\",\n",
      "        \"name\": \"Genomics - Read pre-processing without downloading from SRA\",\n",
      "        \"description\": \"Preprocessing of raw SARS-CoV-2 reads. This workflow contains an alternate starting point to avoid the data to be downloaded from the NCBI SRA. More info can be found at https://covid19.galaxyproject.org/genomics/\",\n",
      "        \"organization\": \"GalaxyProject SARS-CoV-2\",\n",
      "        \"toolclass\": {\n",
      "            \"id\": \"1\",\n",
      "            \"name\": \"Workflow\",\n",
      "            \"description\": \"A computational workflow\"\n",
      "        },\n",
      "        \"versions\": [\n",
      "            {\n",
      "                \"id\": \"1\",\n",
      "                \"url\": \"https://workflowhub.eu/workflows/4?version=1\",\n",
      "                \"name\": \"Version 1\",\n",
      "                \"author\": [],\n",
      "                \"descriptor_type\": [\n",
      "                    \"GALAXY\"\n",
      "                ]\n",
      "            }\n",
      "        ]\n",
      "    }\n",
      "]\n"
     ]
    }
   ],
   "source": [
    "listToolsUrl = 'tools?toolClass={toolClass}&limit={limit}&offset={offset}'\n",
    "\n",
    "prettyPrintJson(getTrsRequestAsJson(listToolsUrl.format(toolClass = 'Workflow', limit = '3', offset = 0)))"
   ]
  },
  {
   "cell_type": "markdown",
   "metadata": {
    "id": "0bd9RpvRVaV3"
   },
   "source": [
    "Next, we will use the Dockstore TRS service to demonstrate how you can retrieve information about a specific tool, its versions, and its files. We will be retrieving information about [this Dockstore workflow](https://dockstore.org/workflows/github.com/dockstore/dockstore-tool-bamstats/wdl:1.25-9?tab=info) using the TRS API."
   ]
  },
  {
   "cell_type": "code",
   "execution_count": 9,
   "metadata": {},
   "outputs": [
    {
     "name": "stdout",
     "output_type": "stream",
     "text": [
      "Using TRS URL https://dockstore.org/api/ga4gh/trs/v2/\n",
      "Using example TRS ID '#workflow/github.com/dockstore/dockstore-tool-bamstats/wdl'\n",
      "Using example TRS version ID '1.25-9'\n"
     ]
    }
   ],
   "source": [
    "# Choose one of DOCKSTORE_TRS_URL or WORKFLOW_HUB_TRS_URL here\n",
    "trsUrl = DOCKSTORE_TRS_URL\n",
    "exampleTrsId = DOCKSTORE_EXAMPLE_TRS_ID\n",
    "exampleVersionId = DOCKSTORE_EXAMPLE_TRS_VERSION_ID\n",
    "\n",
    "print(\"Using TRS URL \" + trsUrl)\n",
    "print(\"Using example TRS ID '\" + exampleTrsId + \"'\")\n",
    "print(\"Using example TRS version ID '\" + exampleVersionId + \"'\")"
   ]
  },
  {
   "cell_type": "markdown",
   "metadata": {},
   "source": [
    "You can retrieve a specific tool by specifying the ID using the `tools/{id}` endpoint."
   ]
  },
  {
   "cell_type": "code",
   "execution_count": 10,
   "metadata": {
    "colab": {
     "base_uri": "https://localhost:8080/"
    },
    "id": "-YV0NJj-V-ym",
    "outputId": "5b4030c3-5e02-4642-98c2-3de283cd9ad3"
   },
   "outputs": [
    {
     "name": "stdout",
     "output_type": "stream",
     "text": [
      "Getting tool with ID '#workflow/github.com/dockstore/dockstore-tool-bamstats/wdl'\n",
      "\n",
      "Performing GET request with URL https://dockstore.org/api/ga4gh/trs/v2/tools/%23workflow%2Fgithub.com%2Fdockstore%2Fdockstore-tool-bamstats%2Fwdl\n",
      "{\n",
      "    \"aliases\": [],\n",
      "    \"checker_url\": \"\",\n",
      "    \"description\": \"# dockstore-tool-bamstats\\n\\nA repo for the `Dockerfile` to create a Docker image for the BAMStats command. Also contains the\\n`Dockstore.yml` which is used by the [Dockstore](https://www.dockstore.org) to register\\nthis container and describe how to call BAMStats for the community.\\n\\n## Validation \\n\\nThis tool has been validated as a CWL draft-3 and v1.0 CommandLineTool. \\n\\nVersions that we tested with are documented iin https://raw.githubusercontent.com/dockstore/dockstore/1.13.0-beta.3/dockstore-webservice/src/main/resources/requirements/1.13.0/requirements3.txt\\n\\n\\n## Building Manually\\n\\nNormally you would let GitHub actions build this.  But, if you need to build manually (for example due to https://github.com/broadinstitute/cromwell/issues/6827)  you would execute:\\n\\n    docker build -t ghcr.io/dockstore/dockstore-tool-bamstats:1.25-8 .\\n\\n## Running Manually\\n\\n```\\n$ wget ftp://ftp.1000genomes.ebi.ac.uk/vol1/ftp/phase3/data/NA12878/alignment/NA12878.chrom20.ILLUMINA.bwa.CEU.low_coverage.20121211.bam\\n$ docker run -it -v `pwd`/NA12878.chrom20.ILLUMINA.bwa.CEU.low_coverage.20121211.bam:/NA12878.chrom20.ILLUMINA.bwa.CEU.low_coverage.20121211.bam ghcr.io/dockstore/dockstore-tool-bamstats:1.25-8\\n\\n# within the docker container\\n$ /usr/local/bin/bamstats 4 /NA12878.chrom20.ILLUMINA.bwa.CEU.low_coverage.20121211.bam\\n```\\nYou'll then see a file, `bamstats_report.zip`, in the current directory, that's the report file. You can use `-v` to mount the result out of the container.\\n\\n## Running Through the Dockstore CLI\\n\\nThis tool can be found at the [Dockstore](https://dockstore.org), login with your GitHub account and follow the \\ndirections to setup the CLI.  It lets you run a Docker container with a CWL/WDL descriptor locally, using Docker and the CWL/WDL command line utility.  This is great for testing.\\n\\n### With CWL\\n\\n#### Make a Parameters JSON\\n\\nThis is the parameterization of the BAM stat tool, a copy is present in this repo called `sample_configs.json`:\\n\\n```\\n{\\n  \\\"bam_input\\\": {\\n        \\\"class\\\": \\\"File\\\",\\n        \\\"path\\\": \\\"ftp://ftp.1000genomes.ebi.ac.uk/vol1/ftp/phase3/data/NA12878/alignment/NA12878.chrom20.ILLUMINA.bwa.CEU.low_coverage.20121211.bam\\\"\\n    },\\n    \\\"bamstats_report\\\": {\\n        \\\"class\\\": \\\"File\\\",\\n        \\\"path\\\": \\\"/tmp/bamstats_report.zip\\\"\\n    }\\n}\\n```\\n\\n#### Run with the CLI\\n\\nRun it using the `dockstore` CLI:\\n\\n```\\n# Fetch CWL workflow\\ndockstore workflow cwl --entry github.com/dockstore/dockstore-tool-bamstats/bamstats_cwl:feature/update > bamstats.cwl\\n\\n# Make a runtime JSON template and edit it (or use the content of sample_configs.json above)\\ndockstore workflow convert cwl2json --cwl bamstats.cwl > Dockstore.json\\n\\n# Update the \\\"path\\\" field for both input and output files within Dockstore.json\\njq '.bam_input.path |= \\\"ftp://ftp.1000genomes.ebi.ac.uk/vol1/ftp/phase3/data/NA12878/alignment/NA12878.chrom20.ILLUMINA.bwa.CEU.low_coverage.20121211.bam\\\"| .bamstats_report.path |= \\\"/tmp/bamstats_report.zip\\\"' Dockstore.json | sponge  Dockstore.json\\n\\n# Run it locally with the Dockstore CLI\\ndockstore workflow launch --entry github.com/dockstore/dockstore-tool-bamstats/bamstats_cwl:feature/update --json Dockstore.json\\n```\\n\\n### With WDL\\n#### Make a Parameters JSON\\n\\nThis is the parameterization of the BAM stat tool, a copy is present in this repo called `test.wdl.json`:\\n\\n```\\n{\\n  \\\"bamstatsWorkflow.bam_input\\\": \\\"rna.SRR948778.bam\\\",\\n  \\\"bamstatsWorkflow.mem_gb\\\": \\\"4\\\"\\n}\\n```\\n\\n#### Run with the CLI\\n\\nRun it using the `dockstore` CLI:\\n\\n```\\nUsage:\\n# fetch WDL\\n$> dockstore workflow wdl --entry github.com/dockstore/dockstore-tool-bamstats/wdl:feature/update > bamstats.wdl\\n# make a runtime JSON template and edit it (or use the content of test.wdl.json above)\\n$> dockstore workflow convert wdl2json --wdl bamstats.wdl > Dockstore.json\\n# run it locally with the Dockstore CLI\\n$> dockstore workflow launch --entry github.com/dockstore/dockstore-tool-bamstats/wdl:feature/update --json Dockstore.json\\n```\\n\\n## Running Nextflow Workflow\\n\\nInstall [Nextflow](https://www.nextflow.io/). Nextflow workflows cannot be run with the Dockstore CLI yet.\\n\\nThe workflow can be run using the following command:\\n```\\n$> nextflow run main.nf\\n```\\n\",\n",
      "    \"has_checker\": false,\n",
      "    \"id\": \"#workflow/github.com/dockstore/dockstore-tool-bamstats/wdl\",\n",
      "    \"meta_version\": \"2022-08-09 15:56:19.085\",\n",
      "    \"name\": \"dockstore-tool-bamstats/wdl\",\n",
      "    \"organization\": \"dockstore\",\n",
      "    \"toolclass\": {\n",
      "        \"description\": \"Workflow\",\n",
      "        \"id\": \"1\",\n",
      "        \"name\": \"Workflow\"\n",
      "    },\n",
      "    \"url\": \"https://dockstore.org/api/ga4gh/trs/v2/tools/%23workflow%2Fgithub.com%2Fdockstore%2Fdockstore-tool-bamstats%2Fwdl\",\n",
      "    \"versions\": [\n",
      "        {\n",
      "            \"author\": [\n",
      "                \"Andrew Duncan\"\n",
      "            ],\n",
      "            \"containerfile\": false,\n",
      "            \"descriptor_type\": [\n",
      "                \"WDL\"\n",
      "            ],\n",
      "            \"descriptor_type_version\": {\n",
      "                \"WDL\": [\n",
      "                    \"1.0\"\n",
      "                ]\n",
      "            },\n",
      "            \"id\": \"#workflow/github.com/dockstore/dockstore-tool-bamstats/wdl:develop\",\n",
      "            \"images\": [],\n",
      "            \"included_apps\": [],\n",
      "            \"is_production\": false,\n",
      "            \"meta_version\": \"2022-08-17 18:03:25.0\",\n",
      "            \"name\": \"develop\",\n",
      "            \"signed\": false,\n",
      "            \"url\": \"https://dockstore.org/api/ga4gh/trs/v2/tools/%23workflow%2Fgithub.com%2Fdockstore%2Fdockstore-tool-bamstats%2Fwdl/versions/develop\",\n",
      "            \"verified\": false,\n",
      "            \"verified_source\": []\n",
      "        },\n",
      "        {\n",
      "            \"author\": [\n",
      "                \"Andrew Duncan\"\n",
      "            ],\n",
      "            \"containerfile\": false,\n",
      "            \"descriptor_type\": [\n",
      "                \"WDL\"\n",
      "            ],\n",
      "            \"descriptor_type_version\": {\n",
      "                \"WDL\": [\n",
      "                    \"1.0\"\n",
      "                ]\n",
      "            },\n",
      "            \"id\": \"#workflow/github.com/dockstore/dockstore-tool-bamstats/wdl:1.25-9\",\n",
      "            \"images\": [\n",
      "                {\n",
      "                    \"checksum\": [\n",
      "                        {\n",
      "                            \"checksum\": \"171725ff643f6a2e12468a780e7969c4ccc368afbcf8e0195c3b12b3ab48c602\",\n",
      "                            \"type\": \"sha-256\"\n",
      "                        }\n",
      "                    ],\n",
      "                    \"image_name\": \"ghcr.io/dockstore/dockstore-tool-bamstats:1.25-8\",\n",
      "                    \"image_type\": \"Docker\",\n",
      "                    \"registry_host\": \"ghcr.io\",\n",
      "                    \"size\": 457240691,\n",
      "                    \"updated\": null\n",
      "                }\n",
      "            ],\n",
      "            \"included_apps\": [],\n",
      "            \"is_production\": true,\n",
      "            \"meta_version\": \"2022-08-16 15:19:47.0\",\n",
      "            \"name\": \"1.25-9\",\n",
      "            \"signed\": false,\n",
      "            \"url\": \"https://dockstore.org/api/ga4gh/trs/v2/tools/%23workflow%2Fgithub.com%2Fdockstore%2Fdockstore-tool-bamstats%2Fwdl/versions/1.25-9\",\n",
      "            \"verified\": false,\n",
      "            \"verified_source\": []\n",
      "        }\n",
      "    ]\n",
      "}\n"
     ]
    }
   ],
   "source": [
    "print(\"Getting tool with ID '\" + exampleTrsId + \"'\\n\")\n",
    "prettyPrintJson(getTrsRequestAsJson('tools/{id}'.format(id = urlEncode(exampleTrsId))))"
   ]
  },
  {
   "cell_type": "markdown",
   "metadata": {
    "id": "jeAuGsvHaJ72"
   },
   "source": [
    "The following examples will use this endpoint prefix that includes the TRS ID so that we can perform various actions on it, such as retrieve its versions, get a specific version and its files.\n",
    "\n",
    "Let's start with listing the versions using the `tools/{id}/versions` endpoint."
   ]
  },
  {
   "cell_type": "code",
   "execution_count": 11,
   "metadata": {
    "colab": {
     "base_uri": "https://localhost:8080/"
    },
    "id": "TrhKsoxdalZ8",
    "outputId": "dda95479-a601-4040-d832-e6bfca382998"
   },
   "outputs": [
    {
     "name": "stdout",
     "output_type": "stream",
     "text": [
      "Performing GET request with URL https://dockstore.org/api/ga4gh/trs/v2/tools/%23workflow%2Fgithub.com%2Fdockstore%2Fdockstore-tool-bamstats%2Fwdl/versions\n",
      "[\n",
      "    {\n",
      "        \"author\": [\n",
      "            \"Andrew Duncan\"\n",
      "        ],\n",
      "        \"containerfile\": false,\n",
      "        \"descriptor_type\": [\n",
      "            \"WDL\"\n",
      "        ],\n",
      "        \"descriptor_type_version\": {\n",
      "            \"WDL\": [\n",
      "                \"1.0\"\n",
      "            ]\n",
      "        },\n",
      "        \"id\": \"#workflow/github.com/dockstore/dockstore-tool-bamstats/wdl:develop\",\n",
      "        \"images\": [],\n",
      "        \"included_apps\": [],\n",
      "        \"is_production\": false,\n",
      "        \"meta_version\": \"2022-08-17 18:03:25.0\",\n",
      "        \"name\": \"develop\",\n",
      "        \"signed\": false,\n",
      "        \"url\": \"https://dockstore.org/api/ga4gh/trs/v2/tools/%23workflow%2Fgithub.com%2Fdockstore%2Fdockstore-tool-bamstats%2Fwdl/versions/develop\",\n",
      "        \"verified\": false,\n",
      "        \"verified_source\": []\n",
      "    },\n",
      "    {\n",
      "        \"author\": [\n",
      "            \"Andrew Duncan\"\n",
      "        ],\n",
      "        \"containerfile\": false,\n",
      "        \"descriptor_type\": [\n",
      "            \"WDL\"\n",
      "        ],\n",
      "        \"descriptor_type_version\": {\n",
      "            \"WDL\": [\n",
      "                \"1.0\"\n",
      "            ]\n",
      "        },\n",
      "        \"id\": \"#workflow/github.com/dockstore/dockstore-tool-bamstats/wdl:1.25-9\",\n",
      "        \"images\": [\n",
      "            {\n",
      "                \"checksum\": [\n",
      "                    {\n",
      "                        \"checksum\": \"171725ff643f6a2e12468a780e7969c4ccc368afbcf8e0195c3b12b3ab48c602\",\n",
      "                        \"type\": \"sha-256\"\n",
      "                    }\n",
      "                ],\n",
      "                \"image_name\": \"ghcr.io/dockstore/dockstore-tool-bamstats:1.25-8\",\n",
      "                \"image_type\": \"Docker\",\n",
      "                \"registry_host\": \"ghcr.io\",\n",
      "                \"size\": 457240691,\n",
      "                \"updated\": null\n",
      "            }\n",
      "        ],\n",
      "        \"included_apps\": [],\n",
      "        \"is_production\": true,\n",
      "        \"meta_version\": \"2022-08-16 15:19:47.0\",\n",
      "        \"name\": \"1.25-9\",\n",
      "        \"signed\": false,\n",
      "        \"url\": \"https://dockstore.org/api/ga4gh/trs/v2/tools/%23workflow%2Fgithub.com%2Fdockstore%2Fdockstore-tool-bamstats%2Fwdl/versions/1.25-9\",\n",
      "        \"verified\": false,\n",
      "        \"verified_source\": []\n",
      "    }\n",
      "]\n"
     ]
    }
   ],
   "source": [
    "# List versions\n",
    "prettyPrintJson(getTrsRequestAsJson('tools/{id}/versions'.format(id = urlEncode(exampleTrsId))))"
   ]
  },
  {
   "cell_type": "markdown",
   "metadata": {
    "id": "U_5ZD79WbLs2"
   },
   "source": [
    "Let's get a specific version using the `tools/{id}/versions/{versionId}` endpoint."
   ]
  },
  {
   "cell_type": "code",
   "execution_count": 12,
   "metadata": {
    "colab": {
     "base_uri": "https://localhost:8080/"
    },
    "id": "8k13iTbg_LSB",
    "outputId": "32ca4530-8747-4d4e-e8c6-3860420d86dd"
   },
   "outputs": [
    {
     "name": "stdout",
     "output_type": "stream",
     "text": [
      "Getting version '1.25-9' for tool '#workflow/github.com/dockstore/dockstore-tool-bamstats/wdl'\n",
      "\n",
      "Performing GET request with URL https://dockstore.org/api/ga4gh/trs/v2/tools/%23workflow%2Fgithub.com%2Fdockstore%2Fdockstore-tool-bamstats%2Fwdl/versions/1.25-9\n",
      "{\n",
      "    \"author\": [\n",
      "        \"Andrew Duncan\"\n",
      "    ],\n",
      "    \"containerfile\": false,\n",
      "    \"descriptor_type\": [\n",
      "        \"WDL\"\n",
      "    ],\n",
      "    \"descriptor_type_version\": {\n",
      "        \"WDL\": [\n",
      "            \"1.0\"\n",
      "        ]\n",
      "    },\n",
      "    \"id\": \"#workflow/github.com/dockstore/dockstore-tool-bamstats/wdl:1.25-9\",\n",
      "    \"images\": [\n",
      "        {\n",
      "            \"checksum\": [\n",
      "                {\n",
      "                    \"checksum\": \"171725ff643f6a2e12468a780e7969c4ccc368afbcf8e0195c3b12b3ab48c602\",\n",
      "                    \"type\": \"sha-256\"\n",
      "                }\n",
      "            ],\n",
      "            \"image_name\": \"ghcr.io/dockstore/dockstore-tool-bamstats:1.25-8\",\n",
      "            \"image_type\": \"Docker\",\n",
      "            \"registry_host\": \"ghcr.io\",\n",
      "            \"size\": 457240691,\n",
      "            \"updated\": null\n",
      "        }\n",
      "    ],\n",
      "    \"included_apps\": [],\n",
      "    \"is_production\": true,\n",
      "    \"meta_version\": \"2022-08-16 15:19:47.0\",\n",
      "    \"name\": \"1.25-9\",\n",
      "    \"signed\": false,\n",
      "    \"url\": \"https://dockstore.org/api/ga4gh/trs/v2/tools/%23workflow%2Fgithub.com%2Fdockstore%2Fdockstore-tool-bamstats%2Fwdl/versions/1.25-9\",\n",
      "    \"verified\": false,\n",
      "    \"verified_source\": []\n",
      "}\n"
     ]
    }
   ],
   "source": [
    "print(\"Getting version '{versionId}' for tool '{id}'\\n\".format(versionId = exampleVersionId, id = exampleTrsId))\n",
    "\n",
    "version = getTrsRequestAsJson('tools/{id}/versions/{versionId}'.format(id = urlEncode(exampleTrsId), versionId = exampleVersionId))\n",
    "prettyPrintJson(version)"
   ]
  },
  {
   "cell_type": "markdown",
   "metadata": {
    "id": "Kep5iQUEJiSB"
   },
   "source": [
    "Now that we have the version, we can get a list of files that the version has using the `tools/{id}/versions/{versionId}/{type}/files` endpoint. In order to do this, we need to provide the type of the descriptor, which was provided in the `descriptor_type` key in the response body of the previous API call when we retrieved the version."
   ]
  },
  {
   "cell_type": "code",
   "execution_count": 13,
   "metadata": {
    "colab": {
     "base_uri": "https://localhost:8080/"
    },
    "id": "PoQRKebSJ1al",
    "outputId": "0016bc83-012f-454d-af98-3ed811f28edf"
   },
   "outputs": [
    {
     "name": "stdout",
     "output_type": "stream",
     "text": [
      "Getting a list of files for tool with ID '#workflow/github.com/dockstore/dockstore-tool-bamstats/wdl', version '1.25-9', and type 'WDL'\n",
      "\n",
      "Performing GET request with URL https://dockstore.org/api/ga4gh/trs/v2/tools/%23workflow%2Fgithub.com%2Fdockstore%2Fdockstore-tool-bamstats%2Fwdl/versions/1.25-9/WDL/files\n",
      "[\n",
      "    {\n",
      "        \"checksum\": {\n",
      "            \"checksum\": \"888a220be757db31d32e4ad0281b3eab716cbb12bb6a3eaff5b52b5796a1f7e1\",\n",
      "            \"type\": \"sha-256\"\n",
      "        },\n",
      "        \"file_type\": \"OTHER\",\n",
      "        \"path\": \".dockstore.yml\"\n",
      "    },\n",
      "    {\n",
      "        \"checksum\": {\n",
      "            \"checksum\": \"c3e6cfba2851d3bcc88396c59351c091e4755ef2246aa9313b1c4deb3214807e\",\n",
      "            \"type\": \"sha-256\"\n",
      "        },\n",
      "        \"file_type\": \"PRIMARY_DESCRIPTOR\",\n",
      "        \"path\": \"bamstats.wdl\"\n",
      "    },\n",
      "    {\n",
      "        \"checksum\": {\n",
      "            \"checksum\": \"c3bf71fa0060bb2f095cba44a235b91c5f0d1c414235b7d4e0eb0964261cd6fa\",\n",
      "            \"type\": \"sha-256\"\n",
      "        },\n",
      "        \"file_type\": \"TEST_FILE\",\n",
      "        \"path\": \"test.wdl.json\"\n",
      "    }\n",
      "]\n"
     ]
    }
   ],
   "source": [
    "# Get the descriptor type\n",
    "descriptorType = version['descriptor_type'][0]\n",
    "\n",
    "# Get a list of files that the version has\n",
    "print(\"Getting a list of files for tool with ID '{id}', version '{versionId}', and type '{type}'\\n\".format(id = exampleTrsId, versionId = exampleVersionId, type = descriptorType))\n",
    "files = getTrsRequestAsJson('tools/{id}/versions/{versionId}/{type}/files'.format(id = urlEncode(exampleTrsId), versionId = exampleVersionId, type = descriptorType))\n",
    "prettyPrintJson(files)"
   ]
  },
  {
   "cell_type": "markdown",
   "metadata": {
    "id": "2Zf1TB89K54w"
   },
   "source": [
    "With this endpoint, you can also download these files as a zip file by specifying `format=zip`. We can see that the zip file has three files - the same three files that were listed in the response body above."
   ]
  },
  {
   "cell_type": "code",
   "execution_count": 14,
   "metadata": {
    "colab": {
     "base_uri": "https://localhost:8080/"
    },
    "id": "DvjZoumKK5KF",
    "outputId": "a4cc6aac-caed-4ff3-e68f-62d995e932d5"
   },
   "outputs": [
    {
     "name": "stdout",
     "output_type": "stream",
     "text": [
      "Downloading a zip file containing files for tool with ID '#workflow/github.com/dockstore/dockstore-tool-bamstats/wdl', version '1.25-9', and type 'WDL'\n",
      "\n",
      "Performing GET request with URL https://dockstore.org/api/ga4gh/trs/v2/tools/%23workflow%2Fgithub.com%2Fdockstore%2Fdockstore-tool-bamstats%2Fwdl/versions/1.25-9/WDL/files?format=zip\n",
      "Archive:  files.zip\n",
      "  Length      Date    Time    Name\n",
      "---------  ---------- -----   ----\n",
      "      694  2024-02-08 16:05   .dockstore.yml\n",
      "      511  2024-02-08 16:05   bamstats.wdl\n",
      "       90  2024-02-08 16:05   test.wdl.json\n",
      "---------                     -------\n",
      "     1295                     3 files\n"
     ]
    }
   ],
   "source": [
    "# Download the files as a zip\n",
    "print(\"Downloading a zip file containing files for tool with ID '{id}', version '{versionId}', and type '{type}'\\n\".format(id = exampleTrsId, versionId = exampleVersionId, type = descriptorType))\n",
    "fileZipResponse = getTrsRequest('tools/{id}/versions/{versionId}/{type}/files?format=zip'.format(id = urlEncode(exampleTrsId), versionId = exampleVersionId, type = descriptorType))\n",
    "with open('files.zip', 'wb') as f:\n",
    "    f.write(fileZipResponse.content)\n",
    "\n",
    "# View the zip file\n",
    "!unzip -l files.zip\n"
   ]
  },
  {
   "cell_type": "markdown",
   "metadata": {
    "id": "9aCFps-1Ccnw"
   },
   "source": [
    "We can get the version's descriptor file using the `tools/{id}/versions/{versionId}/{type}/descriptor` endpoint."
   ]
  },
  {
   "cell_type": "code",
   "execution_count": 15,
   "metadata": {
    "colab": {
     "base_uri": "https://localhost:8080/"
    },
    "id": "KiFIsiQeJzwl",
    "outputId": "fbba70bd-8c68-4e58-b262-2daf3135c1a2"
   },
   "outputs": [
    {
     "name": "stdout",
     "output_type": "stream",
     "text": [
      "Getting the descriptor for tool with ID '#workflow/github.com/dockstore/dockstore-tool-bamstats/wdl', version '1.25-9', and type 'WDL'\n",
      "\n",
      "Performing GET request with URL https://dockstore.org/api/ga4gh/trs/v2/tools/%23workflow%2Fgithub.com%2Fdockstore%2Fdockstore-tool-bamstats%2Fwdl/versions/1.25-9/WDL/descriptor\n",
      "{\n",
      "    \"checksum\": [\n",
      "        {\n",
      "            \"checksum\": \"c3e6cfba2851d3bcc88396c59351c091e4755ef2246aa9313b1c4deb3214807e\",\n",
      "            \"type\": \"sha-256\"\n",
      "        }\n",
      "    ],\n",
      "    \"content\": \"version 1.0\\ntask bamstats {\\n    input {\\n        File bam_input\\n        Int mem_gb\\n    }\\n\\n\\n\\tcommand {\\n\\t\\tbash /usr/local/bin/bamstats ${mem_gb} ${bam_input}\\n\\t}\\n\\n\\toutput {\\n\\t\\tFile bamstats_report = \\\"bamstats_report.zip\\\"\\n\\t}\\n\\n\\truntime {\\n\\t\\tdocker: \\\"ghcr.io/dockstore/dockstore-tool-bamstats:1.25-8\\\"\\n\\t\\tmemory: mem_gb + \\\"GB\\\"\\n\\t}\\n\\n\\tmeta {\\n\\t\\tauthor: \\\"Andrew Duncan\\\"\\n\\t}\\n}\\n\\nworkflow bamstatsWorkflow {\\n    input {\\n        File bam_input\\n        Int mem_gb\\n    }\\n\\tcall bamstats { input: bam_input=bam_input, mem_gb=mem_gb }\\n}\\n\",\n",
      "    \"image_type\": {},\n",
      "    \"url\": \"https://raw.githubusercontent.com/dockstore/dockstore-tool-bamstats/1.25-9//bamstats.wdl\"\n",
      "}\n"
     ]
    }
   ],
   "source": [
    "# Get the descriptor\n",
    "print(\"Getting the descriptor for tool with ID '{id}', version '{versionId}', and type '{type}'\\n\".format(id = exampleTrsId, versionId = exampleVersionId, type = descriptorType))\n",
    "prettyPrintJson(getTrsRequestAsJson('tools/{id}/versions/{versionId}/{type}/descriptor'.format(id = urlEncode(exampleTrsId), versionId = exampleVersionId, type = descriptorType)))"
   ]
  },
  {
   "cell_type": "markdown",
   "metadata": {},
   "source": [
    "If you want the raw content of the descriptor file, you can prefix the `type` with `PLAIN_`. For example, if the type is `WDL`, use `PLAIN_WDL`."
   ]
  },
  {
   "cell_type": "code",
   "execution_count": 16,
   "metadata": {},
   "outputs": [
    {
     "name": "stdout",
     "output_type": "stream",
     "text": [
      "Getting the plain descriptor for tool with ID '#workflow/github.com/dockstore/dockstore-tool-bamstats/wdl', version '1.25-9', and type 'PLAIN_WDL'\n",
      "\n",
      "Performing GET request with URL https://dockstore.org/api/ga4gh/trs/v2/tools/%23workflow%2Fgithub.com%2Fdockstore%2Fdockstore-tool-bamstats%2Fwdl/versions/1.25-9/PLAIN_WDL/descriptor\n",
      "\n",
      "Saved descriptor to file 'descriptor.wdl'. Displaying file content:\n",
      "\n",
      "version 1.0\n",
      "task bamstats {\n",
      "    input {\n",
      "        File bam_input\n",
      "        Int mem_gb\n",
      "    }\n",
      "\n",
      "\n",
      "\tcommand {\n",
      "\t\tbash /usr/local/bin/bamstats ${mem_gb} ${bam_input}\n",
      "\t}\n",
      "\n",
      "\toutput {\n",
      "\t\tFile bamstats_report = \"bamstats_report.zip\"\n",
      "\t}\n",
      "\n",
      "\truntime {\n",
      "\t\tdocker: \"ghcr.io/dockstore/dockstore-tool-bamstats:1.25-8\"\n",
      "\t\tmemory: mem_gb + \"GB\"\n",
      "\t}\n",
      "\n",
      "\tmeta {\n",
      "\t\tauthor: \"Andrew Duncan\"\n",
      "\t}\n",
      "}\n",
      "\n",
      "workflow bamstatsWorkflow {\n",
      "    input {\n",
      "        File bam_input\n",
      "        Int mem_gb\n",
      "    }\n",
      "\tcall bamstats { input: bam_input=bam_input, mem_gb=mem_gb }\n",
      "}\n"
     ]
    }
   ],
   "source": [
    "plainType = 'PLAIN_' + descriptorType\n",
    "print(\"Getting the plain descriptor for tool with ID '{id}', version '{versionId}', and type '{type}'\\n\".format(id = exampleTrsId, versionId = exampleVersionId, type = plainType))\n",
    "plainDescriptorResponse = getTrsRequest('tools/{id}/versions/{versionId}/{type}/descriptor'.format(id = urlEncode(exampleTrsId), versionId = exampleVersionId, type = plainType))\n",
    "\n",
    "# Write content to a file\n",
    "descriptorFileName = 'descriptor.' + descriptorType.lower()\n",
    "with open(descriptorFileName, 'wb') as f:\n",
    "    f.write(plainDescriptorResponse.content)\n",
    "\n",
    "print(\"\\nSaved descriptor to file '{descriptorFileName}'. Displaying file content:\\n\".format(descriptorFileName = descriptorFileName))\n",
    "!cat {descriptorFileName}"
   ]
  },
  {
   "cell_type": "markdown",
   "metadata": {
    "id": "cxsthIfPRX3T"
   },
   "source": [
    "Using the descriptor file as an anchor, we can retrieve other files using relative paths with the `tools/{id}/versions/{versionId}/{type}/descriptor/{relativePath}` endpoint. Let's get a file using its path. We will use the file path of the first file returned from the `tools/{id}/versions/{versionId}/{type}/files` endpoint\n",
    "\n",
    "Note: you may also prefix the type with `PLAIN_` for this endpoint if you want the raw file content."
   ]
  },
  {
   "cell_type": "code",
   "execution_count": 17,
   "metadata": {
    "colab": {
     "base_uri": "https://localhost:8080/"
    },
    "id": "3-j34d-ZNk96",
    "outputId": "7dfb8c7d-d938-429f-8ac0-1157e000c639"
   },
   "outputs": [
    {
     "name": "stdout",
     "output_type": "stream",
     "text": [
      "Getting file with relative path '.dockstore.yml' for tool with ID '#workflow/github.com/dockstore/dockstore-tool-bamstats/wdl', version '1.25-9', and type 'WDL'\n",
      "\n",
      "Performing GET request with URL https://dockstore.org/api/ga4gh/trs/v2/tools/%23workflow%2Fgithub.com%2Fdockstore%2Fdockstore-tool-bamstats%2Fwdl/versions/1.25-9/WDL/descriptor/.dockstore.yml\n",
      "{\n",
      "    \"checksum\": [\n",
      "        {\n",
      "            \"checksum\": \"888a220be757db31d32e4ad0281b3eab716cbb12bb6a3eaff5b52b5796a1f7e1\",\n",
      "            \"type\": \"sha-256\"\n",
      "        }\n",
      "    ],\n",
      "    \"content\": \"version: 1.2\\ntools:\\n  - subclass: CWL\\n    primaryDescriptorPath: /bamstats.cwl\\n    testParameterFiles:\\n      - /test.json\\n    name: bamstats_cwl\\n    authors:\\n      - orcid: 0000-0002-6130-1021\\n  - subclass: CWL\\n    primaryDescriptorPath: /bamstats_sort.cwl\\n    testParameterFiles:\\n      - /test.json\\n    name: bamstats_sort_cwl\\n    authors:\\n      - orcid: 0000-0002-6130-1021\\nworkflows:\\n  - subclass: WDL\\n    primaryDescriptorPath: /bamstats.wdl\\n    testParameterFiles:\\n      - /test.wdl.json\\n    name: wdl\\n    authors:\\n      - orcid: 0000-0002-6130-1021\\n  - subclass: NFL\\n    primaryDescriptorPath: /nextflow.config\\n    name: nfl\\n    authors:\\n      - orcid: 0000-0002-6130-1021               \\n\",\n",
      "    \"image_type\": {},\n",
      "    \"url\": \"https://raw.githubusercontent.com/dockstore/dockstore-tool-bamstats/1.25-9//.dockstore.yml\"\n",
      "}\n"
     ]
    }
   ],
   "source": [
    "filePath = files[0]['path'] \n",
    "print(\"Getting file with relative path '{filePath}' for tool with ID '{id}', version '{versionId}', and type '{type}'\\n\".format(filePath = filePath, id = exampleTrsId, versionId = exampleVersionId, type = descriptorType))\n",
    "prettyPrintJson(getTrsRequestAsJson('tools/{id}/versions/{versionId}/{type}/descriptor/{relativePath}'.format(id = urlEncode(exampleTrsId), versionId = exampleVersionId, type = descriptorType, relativePath = filePath)))"
   ]
  },
  {
   "cell_type": "markdown",
   "metadata": {
    "id": "CtcPrT-kSD8F"
   },
   "source": [
    "We can get a version's test files using the `tools/{id}/versions/{versionId}/{type}/tests` endpoint."
   ]
  },
  {
   "cell_type": "code",
   "execution_count": 18,
   "metadata": {
    "colab": {
     "base_uri": "https://localhost:8080/"
    },
    "id": "HyI3QglWSJN2",
    "outputId": "83982596-2f95-4940-cd1f-0a8ae6ac953f"
   },
   "outputs": [
    {
     "name": "stdout",
     "output_type": "stream",
     "text": [
      "Getting test files for tool with ID '#workflow/github.com/dockstore/dockstore-tool-bamstats/wdl', version '1.25-9', and type 'WDL'\n",
      "\n",
      "Performing GET request with URL https://dockstore.org/api/ga4gh/trs/v2/tools/%23workflow%2Fgithub.com%2Fdockstore%2Fdockstore-tool-bamstats%2Fwdl/versions/1.25-9/WDL/tests\n",
      "[\n",
      "    {\n",
      "        \"checksum\": [\n",
      "            {\n",
      "                \"checksum\": \"c3bf71fa0060bb2f095cba44a235b91c5f0d1c414235b7d4e0eb0964261cd6fa\",\n",
      "                \"type\": \"sha-256\"\n",
      "            }\n",
      "        ],\n",
      "        \"content\": \"{\\n  \\\"bamstatsWorkflow.bam_input\\\": \\\"rna.SRR948778.bam\\\",\\n  \\\"bamstatsWorkflow.mem_gb\\\": \\\"4\\\"\\n}\\n\",\n",
      "        \"image_type\": {},\n",
      "        \"url\": \"https://raw.githubusercontent.com/dockstore/dockstore-tool-bamstats/1.25-9/test.wdl.json\"\n",
      "    }\n",
      "]\n"
     ]
    }
   ],
   "source": [
    "print(\"Getting test files for tool with ID '{id}', version '{versionId}', and type '{type}'\\n\".format(filePath = filePath, id = exampleTrsId, versionId = exampleVersionId, type = descriptorType))\n",
    "\n",
    "prettyPrintJson(getTrsRequestAsJson('tools/{id}/versions/{versionId}/{type}/tests'.format(id = urlEncode(exampleTrsId), versionId = exampleVersionId, type = descriptorType)))"
   ]
  }
 ],
 "metadata": {
  "colab": {
   "authorship_tag": "ABX9TyPEAm45QY7yyo5ZI1JQtqCr",
   "provenance": []
  },
  "kernelspec": {
   "display_name": "Python 3 (ipykernel)",
   "language": "python",
   "name": "python3"
  },
  "language_info": {
   "codemirror_mode": {
    "name": "ipython",
    "version": 3
   },
   "file_extension": ".py",
   "mimetype": "text/x-python",
   "name": "python",
   "nbconvert_exporter": "python",
   "pygments_lexer": "ipython3",
   "version": "3.10.12"
  }
 },
 "nbformat": 4,
 "nbformat_minor": 4
}
